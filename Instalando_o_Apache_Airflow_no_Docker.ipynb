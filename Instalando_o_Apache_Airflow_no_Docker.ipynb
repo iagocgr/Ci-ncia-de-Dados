{
  "nbformat": 4,
  "nbformat_minor": 0,
  "metadata": {
    "colab": {
      "provenance": [],
      "toc_visible": true,
      "authorship_tag": "ABX9TyMh2IqPRMdaeLjvCFgx/ses",
      "include_colab_link": true
    },
    "kernelspec": {
      "name": "python3",
      "display_name": "Python 3"
    },
    "language_info": {
      "name": "python"
    }
  },
  "cells": [
    {
      "cell_type": "markdown",
      "metadata": {
        "id": "view-in-github",
        "colab_type": "text"
      },
      "source": [
        "<a href=\"https://colab.research.google.com/github/iagocgr/Ciencia-de-Dados/blob/main/Instalando_o_Apache_Airflow_no_Docker.ipynb\" target=\"_parent\"><img src=\"https://colab.research.google.com/assets/colab-badge.svg\" alt=\"Open In Colab\"/></a>"
      ]
    },
    {
      "cell_type": "markdown",
      "source": [
        "# Passo 1 - Instalar o Ubuntu usando o WSLS2 na sua máquina windows\n",
        "\n",
        "Link da documentação oficial do WSL2: https://learn.microsoft.com/pt-br/windows/wsl/install"
      ],
      "metadata": {
        "id": "ANxf7CVk4d5z"
      }
    },
    {
      "cell_type": "markdown",
      "source": [
        "para instalar o WSL2 abra o powerShell e digite o comando:\n",
        "\n",
        "`\twsl --list --online`\n",
        "\n",
        "Esse comando irá listar as distribuiçoes\n",
        "digite o seguinte comando para instalar ubuntu é:\n",
        "\n",
        "`\twsl  --install -d Ubuntu-20.04`\n",
        "\n",
        "Aceite a permissão elevada\n",
        "e após a conclusão da instalação reinicie o computador e aguarde carregar a tela do terminal do ubuntu;\n",
        "Ao carregar o terminal do ubuntu crie um usuario e uma senha\n",
        "Ex: User = seunome\n",
        "senha: 1234\n"
      ],
      "metadata": {
        "id": "MBU7TjAx5AtO"
      }
    },
    {
      "cell_type": "markdown",
      "source": [
        "# Passo 2 - Instalar o Docker"
      ],
      "metadata": {
        "id": "K5ZydLkt4ef9"
      }
    },
    {
      "cell_type": "markdown",
      "source": [
        "Digite no google: \"Instalar o Docker para Windows \"  ou acesse o site oficial para instalar o executavel do Docker para windows\n",
        "\n",
        "Site official: https://docs.docker.com/desktop/install/windows-install/\n",
        "\n",
        "Instale o docker e reinicie o PC\n",
        "\n",
        "Apos reiniciaro PC clique no arquivo de atalho para abrir e inciar o Docker"
      ],
      "metadata": {
        "id": "5aC9uy5z5cXz"
      }
    },
    {
      "cell_type": "markdown",
      "source": [
        "# Passo 3 - Instalar o airflow no docker"
      ],
      "metadata": {
        "id": "57z9E9Yw4e-g"
      }
    },
    {
      "cell_type": "markdown",
      "source": [
        "\n",
        "apos instalar o docker precisamos criar uma pasta que iremos salvar o arquivo de configuração do docker-compose do airflow\n",
        "\n",
        "crie uma pasta com o nome AirFlow\n",
        "salve o arquivo chamado \"docker-compose.yaml\" e cole todo conteudo dessa pagina https://airflow.apache.org/docs/apache-airflow/2.9.0/docker-compose.yaml\n",
        "esse será o arquivo de configuração do seu conteiner do airflow\n",
        "\n",
        "em seguida abra a pasta que você criou no VSCODE e abra o arquivo \"docker-compose.yaml\"\n",
        "\n",
        "e onde está escrito volumes corrija para ficar conforme a descrição abaixo:\n",
        "\n",
        "\n",
        "```\n",
        "volumes:\n",
        "    - ./dags:/opt/airflow/dags\n",
        "    - ./logs:/opt/airflow/logs\n",
        "    - ./config:/opt/airflow/config\n",
        "    - ./plugins:/opt/airflow/plugins\n",
        "```\n",
        "\n",
        "\n",
        "\n",
        "Após realizar esse ajuste, no mesmo diretorio crie 4 pastas:\n",
        "\n",
        "dags\n",
        "logs\n",
        "config\n",
        "plugins\n",
        "\n",
        "feito isso abra o terminal do VScode dentro do diretorio que está o arquivo: docker-compose.yaml e execute o comando para instalar o airflow:\n",
        "\n",
        "docker-compose up airflow-init\n",
        "\n",
        "a instalação pode demorar\n",
        "\n",
        "aguarde a instalação pode demorar mas se travar já no inicio reinicie o computador e execute o comando acima novamente;"
      ],
      "metadata": {
        "id": "AOEISudJ5gfS"
      }
    },
    {
      "cell_type": "markdown",
      "source": [
        "# Passo 4 - Iniciar o conteiner com o airFlow"
      ],
      "metadata": {
        "id": "gVknOsZa4ffT"
      }
    },
    {
      "cell_type": "markdown",
      "source": [
        "\n",
        "após o sistema finalizar a instalação\n",
        "\n",
        "execute o seguinte comando para iniciar o conteiner\n",
        "\n",
        "`docker-compose up`\n",
        "\n",
        "OBS o programa do docker deve está aberto"
      ],
      "metadata": {
        "id": "iuyDE0af59dc"
      }
    },
    {
      "cell_type": "markdown",
      "source": [
        "# Passo 5 - Abrir o localhost:8080"
      ],
      "metadata": {
        "id": "nP23sx9Q42T-"
      }
    },
    {
      "cell_type": "markdown",
      "source": [
        "pós esse processo abra o navegar e digite\n",
        "\n",
        "[`localhost:8080`](https://)\n",
        "\n",
        "usuario: airflow\n",
        "senha: airflow\n",
        "\n",
        "\n",
        "para encerra os conteiners use o comando:\n",
        "\n",
        "`docker-compose down`\n"
      ],
      "metadata": {
        "id": "LLM6x9rB6Cls"
      }
    },
    {
      "cell_type": "code",
      "source": [],
      "metadata": {
        "id": "8G-0QG7I47ur"
      },
      "execution_count": null,
      "outputs": []
    }
  ]
}