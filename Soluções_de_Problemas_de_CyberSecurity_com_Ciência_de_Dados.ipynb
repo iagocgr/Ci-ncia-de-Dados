{
  "nbformat": 4,
  "nbformat_minor": 0,
  "metadata": {
    "colab": {
      "provenance": [],
      "authorship_tag": "ABX9TyPYuNLAvGAcv4Kwh2Jwys2R",
      "include_colab_link": true
    },
    "kernelspec": {
      "name": "python3",
      "display_name": "Python 3"
    },
    "language_info": {
      "name": "python"
    }
  },
  "cells": [
    {
      "cell_type": "markdown",
      "metadata": {
        "id": "view-in-github",
        "colab_type": "text"
      },
      "source": [
        "<a href=\"https://colab.research.google.com/github/iagocgr/Ciencia-de-Dados/blob/main/Solu%C3%A7%C3%B5es_de_Problemas_de_CyberSecurity_com_Ci%C3%AAncia_de_Dados.ipynb\" target=\"_parent\"><img src=\"https://colab.research.google.com/assets/colab-badge.svg\" alt=\"Open In Colab\"/></a>"
      ]
    },
    {
      "cell_type": "code",
      "execution_count": null,
      "metadata": {
        "id": "Y0jxom7PzBDe"
      },
      "outputs": [],
      "source": []
    },
    {
      "cell_type": "code",
      "source": [],
      "metadata": {
        "id": "zeaPpA-lzQAH"
      },
      "execution_count": null,
      "outputs": []
    },
    {
      "cell_type": "markdown",
      "source": [
        "Soluções de Problemas de CyberSecurity com Ciência de Dados\n",
        "\n",
        "1.   Aula 1 - Introdução à Segurança Cibernética e Ciência de Dados\n",
        "2.   Aula 2 - Análise de Dados em Cybersecurity\n",
        "2.   Aula 2 - Análise de Dados em Cybersecurity\n",
        "2.   Aula 2 - Análise de Dados em Cybersecurity\n",
        "2.   Aula 2 - Análise de Dados em Cybersecurity\n",
        "2.   Aula 2 - Análise de Dados em Cybersecurity\n",
        "2.   Aula 2 - Análise de Dados em Cybersecurity\n",
        "2.   Aula 2 - Análise de Dados em Cybersecurity\n",
        "\n"
      ],
      "metadata": {
        "id": "0qqP-VnqzQl7"
      }
    }
  ]
}